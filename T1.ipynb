{
 "cells": [
  {
   "cell_type": "code",
   "execution_count": 1,
   "metadata": {},
   "outputs": [],
   "source": [
    "import numpy as np\n",
    "import tensorflow as tf\n",
    "import pandas as pd\n",
    "from tensorflow.keras.layers import * \n",
    "import tensorflow_datasets as tfds\n",
    "from tensorflow import keras\n",
    "from tensorflow.keras.models import Model\n",
    "import matplotlib.pyplot as plt\n",
    "from matplotlib.image import imread\n",
    "import pathlib"
   ]
  },
  {
   "cell_type": "code",
   "execution_count": 2,
   "metadata": {},
   "outputs": [],
   "source": [
    "IMG_HEIGHT = 180\n",
    "IMG_WIDTH = 180"
   ]
  },
  {
   "cell_type": "code",
   "execution_count": 3,
   "metadata": {},
   "outputs": [
    {
     "output_type": "stream",
     "name": "stdout",
     "text": "Found 28 files belonging to 28 classes.\n"
    }
   ],
   "source": [
    "data_dir_train = pathlib.Path('C:\\\\Users\\\\charm\\\\Documents\\\\GitHub\\Sign-Language-Translator\\\\DATA\\\\asl_alphabet\\\\asl_alphabet_train')\n",
    "data_dir_test = pathlib.Path('C:\\\\Users\\\\charm\\\\Documents\\\\GitHub\\Sign-Language-Translator\\\\DATA\\\\asl_alphabet\\\\asl_alphabet_test')\n",
    "# train = tf.keras.preprocessing.image_dataset_from_directory(data_dir_train, image_size=(IMG_WIDTH, IMG_HEIGHT))\n",
    "test = tf.keras.preprocessing.image_dataset_from_directory(data_dir_test, image_size=(IMG_WIDTH, IMG_HEIGHT))"
   ]
  },
  {
   "cell_type": "code",
   "execution_count": 4,
   "metadata": {},
   "outputs": [],
   "source": [
    "EPOCHS = 10\n",
    "BATCH_SIZE = 32\n",
    "FILTERS = 32\n",
    "POOL_SIZE = (2,2)\n",
    "INPUT_SHAPE = (IMG_HEIGHT, IMG_WIDTH, 3)\n",
    "UNITS = 128"
   ]
  },
  {
   "cell_type": "code",
   "execution_count": 5,
   "metadata": {},
   "outputs": [
    {
     "output_type": "stream",
     "name": "stdout",
     "text": "Found 87000 files belonging to 29 classes.\nUsing 69600 files for training.\n"
    }
   ],
   "source": [
    "train = tf.keras.preprocessing.image_dataset_from_directory(\n",
    "  data_dir_train,\n",
    "  validation_split=0.2,\n",
    "  subset=\"training\",\n",
    "  seed=123,\n",
    "  image_size=(IMG_HEIGHT, IMG_WIDTH),\n",
    "  batch_size=BATCH_SIZE)"
   ]
  },
  {
   "cell_type": "code",
   "execution_count": 6,
   "metadata": {},
   "outputs": [
    {
     "output_type": "stream",
     "name": "stdout",
     "text": "Found 87000 files belonging to 29 classes.\nUsing 17400 files for validation.\n"
    }
   ],
   "source": [
    "val = tf.keras.preprocessing.image_dataset_from_directory(\n",
    "  data_dir_train,\n",
    "  validation_split=0.2,\n",
    "  subset=\"validation\",\n",
    "  seed=123,\n",
    "  image_size=(IMG_HEIGHT, IMG_WIDTH),\n",
    "  batch_size=BATCH_SIZE)"
   ]
  },
  {
   "cell_type": "code",
   "execution_count": 7,
   "metadata": {},
   "outputs": [],
   "source": [
    "class_names = train.class_names"
   ]
  },
  {
   "cell_type": "code",
   "execution_count": 8,
   "metadata": {},
   "outputs": [],
   "source": [
    "train = train.map(lambda x,y: (float(x)/255, y))\n",
    "val = val.map(lambda x,y: (float(x)/255, y))\n",
    "test = test.map(lambda x,y: (float(x)/255, y))"
   ]
  },
  {
   "cell_type": "code",
   "execution_count": 9,
   "metadata": {},
   "outputs": [],
   "source": [
    "def CNN():\n",
    "    input = keras.layers.Input(shape=INPUT_SHAPE)\n",
    "    conv1 = keras.layers.Conv2D(FILTERS, (3,3), input_shape=INPUT_SHAPE, activation='relu')(input)\n",
    "    pool1 = keras.layers.MaxPool2D(pool_size=POOL_SIZE)(conv1)\n",
    "    conv2 = keras.layers.Conv2D(FILTERS*2, (3,3), input_shape=INPUT_SHAPE, activation='relu')(pool1)\n",
    "    pool2 = keras.layers.MaxPool2D(pool_size=POOL_SIZE)(conv2)\n",
    "    conv3 = keras.layers.Conv2D(FILTERS*3, (3,3), input_shape=INPUT_SHAPE, activation='relu')(pool2)\n",
    "    pool3 = keras.layers.MaxPool2D(pool_size=POOL_SIZE)(conv3)\n",
    "    flatten = keras.layers.Flatten()(pool2)\n",
    "    fc1 = keras.layers.Dense(units=UNITS, activation='relu')(flatten)\n",
    "    d1 = keras.layers.Dropout(rate=0.1)(fc1)\n",
    "    fc2 = keras.layers.Dense(units=UNITS, activation='relu')(d1)\n",
    "    d2 = keras.layers.Dropout(rate=0.1)(fc2)\n",
    "    output = keras.layers.Dense(len(class_names), activation='relu')(d2)\n",
    "\n",
    "    return Model(inputs=input, outputs=output)"
   ]
  },
  {
   "cell_type": "code",
   "execution_count": 10,
   "metadata": {},
   "outputs": [
    {
     "output_type": "stream",
     "name": "stdout",
     "text": "Model: \"functional_1\"\n_________________________________________________________________\nLayer (type)                 Output Shape              Param #   \n=================================================================\ninput_1 (InputLayer)         [(None, 180, 180, 3)]     0         \n_________________________________________________________________\nconv2d (Conv2D)              (None, 178, 178, 32)      896       \n_________________________________________________________________\nmax_pooling2d (MaxPooling2D) (None, 89, 89, 32)        0         \n_________________________________________________________________\nconv2d_1 (Conv2D)            (None, 87, 87, 64)        18496     \n_________________________________________________________________\nmax_pooling2d_1 (MaxPooling2 (None, 43, 43, 64)        0         \n_________________________________________________________________\nflatten (Flatten)            (None, 118336)            0         \n_________________________________________________________________\ndense (Dense)                (None, 128)               15147136  \n_________________________________________________________________\ndropout (Dropout)            (None, 128)               0         \n_________________________________________________________________\ndense_1 (Dense)              (None, 128)               16512     \n_________________________________________________________________\ndropout_1 (Dropout)          (None, 128)               0         \n_________________________________________________________________\ndense_2 (Dense)              (None, 29)                3741      \n=================================================================\nTotal params: 15,186,781\nTrainable params: 15,186,781\nNon-trainable params: 0\n_________________________________________________________________\n"
    }
   ],
   "source": [
    "model = CNN()\n",
    "model.summary()"
   ]
  },
  {
   "cell_type": "code",
   "execution_count": 11,
   "metadata": {},
   "outputs": [],
   "source": [
    "model.compile(optimizer='adam',\n",
    "              loss=tf.keras.losses.SparseCategoricalCrossentropy(from_logits=True),\n",
    "              metrics=['accuracy'])"
   ]
  },
  {
   "cell_type": "code",
   "execution_count": 12,
   "metadata": {},
   "outputs": [
    {
     "output_type": "stream",
     "name": "stdout",
     "text": "Epoch 1/10\n   9/2175 [..............................] - ETA: 34:38 - loss: 4.2238 - accuracy: 0.0417"
    }
   ],
   "source": [
    "history = model.fit(\n",
    "  train,\n",
    "  validation_data=val,\n",
    "  epochs=EPOCHS\n",
    ")"
   ]
  },
  {
   "cell_type": "code",
   "execution_count": 8,
   "metadata": {},
   "outputs": [
    {
     "output_type": "error",
     "ename": "NameError",
     "evalue": "name 'model' is not defined",
     "traceback": [
      "\u001b[1;31m---------------------------------------------------------------------------\u001b[0m",
      "\u001b[1;31mNameError\u001b[0m                                 Traceback (most recent call last)",
      "\u001b[1;32m<ipython-input-8-c59db547a49e>\u001b[0m in \u001b[0;36m<module>\u001b[1;34m\u001b[0m\n\u001b[1;32m----> 1\u001b[1;33m \u001b[0mmodel\u001b[0m\u001b[1;33m.\u001b[0m\u001b[0msave\u001b[0m\u001b[1;33m(\u001b[0m\u001b[1;34m\"Models/CNN1.h5\"\u001b[0m\u001b[1;33m)\u001b[0m\u001b[1;33m\u001b[0m\u001b[1;33m\u001b[0m\u001b[0m\n\u001b[0m",
      "\u001b[1;31mNameError\u001b[0m: name 'model' is not defined"
     ]
    }
   ],
   "source": [
    "model.save(\"Models/CNN1.h5\")"
   ]
  }
 ],
 "metadata": {
  "kernelspec": {
   "display_name": "Python 3",
   "language": "python",
   "name": "python3"
  },
  "language_info": {
   "codemirror_mode": {
    "name": "ipython",
    "version": 3
   },
   "file_extension": ".py",
   "mimetype": "text/x-python",
   "name": "python",
   "nbconvert_exporter": "python",
   "pygments_lexer": "ipython3",
   "version": "3.8.1"
  }
 },
 "nbformat": 4,
 "nbformat_minor": 4
}